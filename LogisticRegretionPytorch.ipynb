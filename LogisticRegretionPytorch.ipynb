{
  "nbformat": 4,
  "nbformat_minor": 0,
  "metadata": {
    "colab": {
      "name": "LogisticRegretionPytorch.ipynb",
      "provenance": [],
      "include_colab_link": true
    },
    "kernelspec": {
      "name": "python3",
      "display_name": "Python 3"
    }
  },
  "cells": [
    {
      "cell_type": "markdown",
      "metadata": {
        "id": "view-in-github",
        "colab_type": "text"
      },
      "source": [
        "<a href=\"https://colab.research.google.com/github/alanRiveros/machineLearning/blob/master/LogisticRegretionPytorch.ipynb\" target=\"_parent\"><img src=\"https://colab.research.google.com/assets/colab-badge.svg\" alt=\"Open In Colab\"/></a>"
      ]
    },
    {
      "cell_type": "markdown",
      "metadata": {
        "id": "tRD23CuE3G6r",
        "colab_type": "text"
      },
      "source": [
        "# Regresión logística"
      ]
    },
    {
      "cell_type": "code",
      "metadata": {
        "id": "J6VYB45q3cWL",
        "colab_type": "code",
        "colab": {}
      },
      "source": [
        "import torch\n",
        "import numpy as np\n",
        "import torch.nn as nn\n",
        "import torch.optim as optim\n",
        "\n",
        "import matplotlib.pyplot as plt"
      ],
      "execution_count": 0,
      "outputs": []
    },
    {
      "cell_type": "code",
      "metadata": {
        "id": "OFSdIRY93RFh",
        "colab_type": "code",
        "outputId": "d7c8643f-394e-4794-a61e-fbb513bdb4c4",
        "colab": {
          "base_uri": "https://localhost:8080/",
          "height": 1000
        }
      },
      "source": [
        "n = 100\n",
        "h = n//2\n",
        "dimen = 2\n",
        "\n",
        "data = np.random.randn(n, dimen)*3\n",
        "data"
      ],
      "execution_count": 2,
      "outputs": [
        {
          "output_type": "execute_result",
          "data": {
            "text/plain": [
              "array([[-0.87379531, -2.92515675],\n",
              "       [-2.02203554,  4.12751048],\n",
              "       [-4.08137993,  0.07609606],\n",
              "       [-4.28513086,  5.55928867],\n",
              "       [-0.48823902,  0.06352572],\n",
              "       [ 2.28136975, -1.76271634],\n",
              "       [ 0.44678918,  2.21488504],\n",
              "       [-4.51042326, -0.75378637],\n",
              "       [-0.32497839,  3.41308585],\n",
              "       [ 4.23219858,  3.06507584],\n",
              "       [-2.15498688,  1.34898453],\n",
              "       [-4.19283134, -3.03616454],\n",
              "       [-6.42740862,  3.67127344],\n",
              "       [-1.21942803, -0.5451906 ],\n",
              "       [-2.43184306,  2.06299942],\n",
              "       [ 2.30934799,  2.68840859],\n",
              "       [-1.43531372,  4.73340225],\n",
              "       [ 3.45522742, -2.82002689],\n",
              "       [-0.1387692 ,  0.22184337],\n",
              "       [-0.7413989 , -4.04723113],\n",
              "       [ 2.13712901,  4.42381679],\n",
              "       [ 3.05931175,  1.02424795],\n",
              "       [ 2.1050424 , -2.36911574],\n",
              "       [-2.99945533, -0.61858963],\n",
              "       [ 3.71108797,  6.57440439],\n",
              "       [-1.15413927,  1.9517952 ],\n",
              "       [-3.90218684,  3.00153125],\n",
              "       [ 0.91406645,  5.47908807],\n",
              "       [ 0.49898331,  0.43497381],\n",
              "       [ 0.0816272 ,  1.47906196],\n",
              "       [-2.6553086 ,  0.86382389],\n",
              "       [-2.53994837, -2.81572552],\n",
              "       [-0.62985319,  2.46256087],\n",
              "       [ 6.66723501, -2.41981256],\n",
              "       [-6.25753682,  1.38405233],\n",
              "       [ 2.26503037, -1.94109549],\n",
              "       [ 3.05552318,  0.34317146],\n",
              "       [-4.51632124,  3.15970951],\n",
              "       [-1.70783995, -7.658626  ],\n",
              "       [ 2.71725793, -2.20812441],\n",
              "       [-0.28319395,  3.47000517],\n",
              "       [ 4.09159915, -0.7979272 ],\n",
              "       [ 1.24483966, -2.67421757],\n",
              "       [-0.09715317, -0.18776083],\n",
              "       [ 2.40707692, -6.21551997],\n",
              "       [ 5.81538717, -2.78254568],\n",
              "       [ 4.54001199,  3.60389046],\n",
              "       [ 2.84597974, -4.6580261 ],\n",
              "       [-1.07913717,  1.25585662],\n",
              "       [-2.02004411, -0.12624024],\n",
              "       [-2.90331885,  3.25711216],\n",
              "       [ 3.58040175,  0.7668511 ],\n",
              "       [ 3.42829784,  4.87675429],\n",
              "       [-1.00712687,  4.96644992],\n",
              "       [-3.64027981, -1.23755106],\n",
              "       [-1.06469646,  0.36386681],\n",
              "       [-3.13662436, -0.32727603],\n",
              "       [ 2.19094976, -0.25274539],\n",
              "       [-6.04600747, -2.55257241],\n",
              "       [-2.0192181 , -5.36659317],\n",
              "       [-2.29339801, -3.64843423],\n",
              "       [-0.05891549, -6.34986237],\n",
              "       [ 3.91462757,  0.12320585],\n",
              "       [-3.60197855,  2.6293845 ],\n",
              "       [-0.32563964, -2.09274923],\n",
              "       [ 3.34738355,  0.51840527],\n",
              "       [ 5.37561333, -0.56141394],\n",
              "       [ 1.6495961 ,  0.56736421],\n",
              "       [ 5.30154605, -0.72237881],\n",
              "       [ 5.66734036,  1.9310094 ],\n",
              "       [-5.32558844, -4.3520891 ],\n",
              "       [ 3.02562351, -3.2187256 ],\n",
              "       [ 5.17677878, -1.84655727],\n",
              "       [-0.00985469,  0.18437161],\n",
              "       [-3.06897374, -3.52122076],\n",
              "       [ 0.99043232, -2.10432311],\n",
              "       [ 1.79671672, -0.97067159],\n",
              "       [ 3.36316188, -2.6411487 ],\n",
              "       [ 4.12877415,  4.52380394],\n",
              "       [-4.8811687 , -0.55143814],\n",
              "       [ 1.47013938,  4.85344357],\n",
              "       [ 0.78274522,  0.21025545],\n",
              "       [ 0.25138618, -3.61173667],\n",
              "       [-2.66639915, -2.95274049],\n",
              "       [-1.48750897,  5.56771606],\n",
              "       [-0.96902809,  0.59219859],\n",
              "       [-1.83847571, -5.16415471],\n",
              "       [-2.54254409,  2.22472113],\n",
              "       [-0.50891404,  0.76839991],\n",
              "       [-3.84935713,  1.71149062],\n",
              "       [ 0.73261905, -1.82656832],\n",
              "       [-6.66891577, -2.4189203 ],\n",
              "       [-4.35778204,  1.11753229],\n",
              "       [-0.330161  , -0.32954026],\n",
              "       [ 1.13741279, -3.44082182],\n",
              "       [ 1.05682484,  0.80063381],\n",
              "       [-1.71579823, -1.64236028],\n",
              "       [ 1.79991876,  1.24925176],\n",
              "       [-1.58546767,  3.97281363],\n",
              "       [ 3.47822547, -0.94442532]])"
            ]
          },
          "metadata": {
            "tags": []
          },
          "execution_count": 2
        }
      ]
    },
    {
      "cell_type": "code",
      "metadata": {
        "id": "qm-nybD_3m5h",
        "colab_type": "code",
        "outputId": "9d5c84cc-9048-47aa-ed25-3bee7f8662c6",
        "colab": {
          "base_uri": "https://localhost:8080/",
          "height": 282
        }
      },
      "source": [
        "plt.scatter(data[:,0], data[:,1])"
      ],
      "execution_count": 3,
      "outputs": [
        {
          "output_type": "execute_result",
          "data": {
            "text/plain": [
              "<matplotlib.collections.PathCollection at 0x7f2a458fc518>"
            ]
          },
          "metadata": {
            "tags": []
          },
          "execution_count": 3
        },
        {
          "output_type": "display_data",
          "data": {
            "image/png": "[encoded data removed]",
            "text/plain": [
              "<Figure size 432x288 with 1 Axes>"
            ]
          },
          "metadata": {
            "tags": []
          }
        }
      ]
    },
    {
      "cell_type": "code",
      "metadata": {
        "id": "tZgIYKyd4BGK",
        "colab_type": "code",
        "colab": {}
      },
      "source": [
        "data[:h, :] = data[:h, :] - 3*np.ones((h, dimen))"
      ],
      "execution_count": 0,
      "outputs": []
    },
    {
      "cell_type": "code",
      "metadata": {
        "id": "INJCjuH24RmR",
        "colab_type": "code",
        "colab": {}
      },
      "source": [
        "data[:h, :] = data[h:, :] + 3*np.ones((h, dimen))"
      ],
      "execution_count": 0,
      "outputs": []
    },
    {
      "cell_type": "code",
      "metadata": {
        "id": "XFUxMM7O4X6r",
        "colab_type": "code",
        "outputId": "731ddd41-1d82-4acc-b709-f781b64e9551",
        "colab": {
          "base_uri": "https://localhost:8080/",
          "height": 282
        }
      },
      "source": [
        "colors = ['blue', 'red']\n",
        "\n",
        "color = np.array([colors[0]]*h + [colors[1]]*h).reshape(n)\n",
        "plt.scatter(data[:,0], data[:,1], c=color, s=75)"
      ],
      "execution_count": 6,
      "outputs": [
        {
          "output_type": "execute_result",
          "data": {
            "text/plain": [
              "<matplotlib.collections.PathCollection at 0x7f2a42c57400>"
            ]
          },
          "metadata": {
            "tags": []
          },
          "execution_count": 6
        },
        {
          "output_type": "display_data",
          "data": {
            "image/png": "[encoded data removed]",
            "text/plain": [
              "<Figure size 432x288 with 1 Axes>"
            ]
          },
          "metadata": {
            "tags": []
          }
        }
      ]
    },
    {
      "cell_type": "code",
      "metadata": {
        "id": "k0EM0PTu4aib",
        "colab_type": "code",
        "outputId": "370dc0d5-d791-4b31-a0dc-d205c18b477b",
        "colab": {
          "base_uri": "https://localhost:8080/",
          "height": 34
        }
      },
      "source": [
        "target = np.array([0]*h + [1]*h).reshape(n, 1)\n",
        "x = torch.from_numpy(data).float().requires_grad_(True)\n",
        "y = torch.from_numpy(target).float()\n",
        "\n",
        "x.shape, y.shape"
      ],
      "execution_count": 7,
      "outputs": [
        {
          "output_type": "execute_result",
          "data": {
            "text/plain": [
              "(torch.Size([100, 2]), torch.Size([100, 1]))"
            ]
          },
          "metadata": {
            "tags": []
          },
          "execution_count": 7
        }
      ]
    },
    {
      "cell_type": "code",
      "metadata": {
        "id": "spXJ4bcA5ta_",
        "colab_type": "code",
        "outputId": "239dd79e-5aec-4238-e83f-0f6e0a111653",
        "colab": {
          "base_uri": "https://localhost:8080/",
          "height": 285
        }
      },
      "source": [
        "\n",
        "model = nn.Sequential(\n",
        "    nn.Linear(2,1),\n",
        "    nn.Sigmoid()\n",
        ")\n",
        "loss_function = nn.BCELoss()\n",
        "\n",
        "optimizer = optim.SGD(model.parameters(), lr= 0.01)\n",
        "\n",
        "losses = []\n",
        "iterations = 1000\n",
        "\n",
        "for i in range(iterations):\n",
        "  result = model(x)\n",
        "  loss = loss_function(result, y)\n",
        "  losses.append(loss.data)\n",
        "  optimizer.zero_grad()\n",
        "  loss.backward()\n",
        "\n",
        "  optimizer.step()\n",
        "\n",
        "plt.plot(range(iterations), losses)"
      ],
      "execution_count": 8,
      "outputs": [
        {
          "output_type": "execute_result",
          "data": {
            "text/plain": [
              "[<matplotlib.lines.Line2D at 0x7f2a41b63470>]"
            ]
          },
          "metadata": {
            "tags": []
          },
          "execution_count": 8
        },
        {
          "output_type": "display_data",
          "data": {
            "image/png": "[encoded data removed]",
            "text/plain": [
              "<Figure size 432x288 with 1 Axes>"
            ]
          },
          "metadata": {
            "tags": []
          }
        }
      ]
    },
    {
      "cell_type": "code",
      "metadata": {
        "id": "IC_e_4Rn_xRY",
        "colab_type": "code",
        "colab": {
          "base_uri": "https://localhost:8080/",
          "height": 51
        },
        "outputId": "d7f80877-9635-4819-8ee7-a3b1d1588190"
      },
      "source": [
        "blue = torch.Tensor([[-5, -6]])\n",
        "prediction = model(blue).data[0][0] > 0.5\n",
        "print(colors[prediction])\n",
        "\n",
        "red = torch.Tensor([[8, 6]])\n",
        "prediction = model(red).data[0][0] > 0.5\n",
        "print(colors[prediction])"
      ],
      "execution_count": 9,
      "outputs": [
        {
          "output_type": "stream",
          "text": [
            "red\n",
            "blue\n"
          ],
          "name": "stdout"
        }
      ]
    },
    {
      "cell_type": "code",
      "metadata": {
        "id": "8m9WRIGZ_Blx",
        "colab_type": "code",
        "colab": {}
      },
      "source": [
        ""
      ],
      "execution_count": 0,
      "outputs": []
    }
  ]
}