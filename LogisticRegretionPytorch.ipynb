{
  "nbformat": 4,
  "nbformat_minor": 0,
  "metadata": {
    "colab": {
      "name": "LogisticRegretionPytorch.ipynb",
      "provenance": [],
      "include_colab_link": true
    },
    "kernelspec": {
      "name": "python3",
      "display_name": "Python 3"
    }
  },
  "cells": [
    {
      "cell_type": "markdown",
      "metadata": {
        "id": "view-in-github",
        "colab_type": "text"
      },
      "source": [
        "<a href=\"https://colab.research.google.com/github/alanRiveros/machineLearning/blob/master/LogisticRegretionPytorch.ipynb\" target=\"_parent\"><img src=\"https://colab.research.google.com/assets/colab-badge.svg\" alt=\"Open In Colab\"/></a>"
      ]
    },
    {
      "cell_type": "markdown",
      "metadata": {
        "id": "tRD23CuE3G6r",
        "colab_type": "text"
      },
      "source": [
        "# Regresión logística"
      ]
    },
    {
      "cell_type": "code",
      "metadata": {
        "id": "J6VYB45q3cWL",
        "colab_type": "code",
        "colab": {}
      },
      "source": [
        "import torch\n",
        "import numpy as np\n",
        "import torch.nn as nn\n",
        "import torch.optim as optim\n",
        "\n",
        "import matplotlib.pyplot as plt"
      ],
      "execution_count": 0,
      "outputs": []
    },
    {
      "cell_type": "code",
      "metadata": {
        "id": "OFSdIRY93RFh",
        "colab_type": "code",
        "colab": {
          "base_uri": "https://localhost:8080/",
          "height": 1000
        },
        "outputId": "a4a11d09-f5ab-4eae-e1cc-7fff1cdeee85"
      },
      "source": [
        "n = 100\n",
        "h = n//2\n",
        "dimen = 2\n",
        "\n",
        "data = np.random.randn(n, dimen)*3\n",
        "data"
      ],
      "execution_count": 5,
      "outputs": [
        {
          "output_type": "execute_result",
          "data": {
            "text/plain": [
              "array([[ 2.5574804 ,  0.93104674],\n",
              "       [-3.83217581,  1.27551698],\n",
              "       [ 1.38887093, -1.86269829],\n",
              "       [-2.85717128, -1.72042365],\n",
              "       [-5.00964236,  1.23470877],\n",
              "       [-3.12680751, -4.75772689],\n",
              "       [ 1.78400255,  6.44394674],\n",
              "       [ 2.30067542,  2.0836656 ],\n",
              "       [ 1.28057805,  1.02853978],\n",
              "       [ 0.93620633, -0.19622267],\n",
              "       [ 4.63572747,  0.07284247],\n",
              "       [-1.51811525,  3.28888203],\n",
              "       [ 0.12661637, -8.22110443],\n",
              "       [-2.44448671,  5.2198459 ],\n",
              "       [-0.62215371,  2.27484395],\n",
              "       [ 1.10004642, -0.87408255],\n",
              "       [ 1.96975021,  2.23810413],\n",
              "       [ 0.75195345,  3.09632008],\n",
              "       [-2.55369486, -2.17776439],\n",
              "       [-3.87355476,  7.56508492],\n",
              "       [ 2.90934797,  0.27224436],\n",
              "       [-2.45713363, -2.57474111],\n",
              "       [-2.5488197 , -1.30714901],\n",
              "       [-2.7346083 ,  4.79636727],\n",
              "       [-0.86826477,  0.20254049],\n",
              "       [-3.74993085, -7.4092194 ],\n",
              "       [-1.75706252, -0.5057786 ],\n",
              "       [-0.59816527,  3.70763028],\n",
              "       [ 0.17372037,  1.64340216],\n",
              "       [-0.35567835,  0.14567073],\n",
              "       [ 1.41124754,  2.40566466],\n",
              "       [ 1.3797852 ,  0.98971793],\n",
              "       [-1.18022609,  0.45575905],\n",
              "       [ 0.53502317,  2.33678517],\n",
              "       [ 3.04208019,  1.51108337],\n",
              "       [-1.24428529,  0.132607  ],\n",
              "       [-1.18681631, -1.91249306],\n",
              "       [-0.06975538,  0.41358096],\n",
              "       [ 5.73233801, -0.2985119 ],\n",
              "       [ 0.51965318,  6.24860983],\n",
              "       [-0.01371206,  0.05406321],\n",
              "       [-3.92447913,  2.96579118],\n",
              "       [ 0.77384685, -1.97519467],\n",
              "       [ 0.47707363,  2.87676289],\n",
              "       [ 0.75660537,  0.30923926],\n",
              "       [ 5.27166272, -0.3463776 ],\n",
              "       [-3.16719721,  1.13071876],\n",
              "       [ 3.61944518,  0.9946565 ],\n",
              "       [-0.02198256,  2.83853242],\n",
              "       [ 2.60791356,  3.12625699],\n",
              "       [ 1.03443051,  3.86695407],\n",
              "       [ 2.00572821,  1.4181681 ],\n",
              "       [ 3.50193125, -4.87239464],\n",
              "       [ 4.41404647,  0.82965372],\n",
              "       [-0.78992154,  2.23221751],\n",
              "       [ 3.65497828,  1.60907274],\n",
              "       [ 0.1572119 ,  1.39584842],\n",
              "       [ 2.23958138,  5.2396915 ],\n",
              "       [ 0.75046155, -2.78074075],\n",
              "       [ 1.16260922, -0.82184005],\n",
              "       [ 0.21323467,  4.33458895],\n",
              "       [ 3.27507168,  5.23960751],\n",
              "       [-2.67546348, -0.67021707],\n",
              "       [ 4.82043699,  0.7693641 ],\n",
              "       [-2.21023991,  1.24138414],\n",
              "       [ 0.51612186, -3.4007559 ],\n",
              "       [ 2.64430048,  2.78137634],\n",
              "       [-4.32913638, -0.62066514],\n",
              "       [-0.06846359,  1.05547653],\n",
              "       [ 4.56331914,  4.56146948],\n",
              "       [-1.41300365, -1.82127372],\n",
              "       [ 3.60104739, -1.78534738],\n",
              "       [ 1.30528328,  1.27902336],\n",
              "       [-1.53307954,  2.80318972],\n",
              "       [-0.1644053 ,  2.49487931],\n",
              "       [-1.61083229,  2.52703518],\n",
              "       [ 0.07631052,  5.60510096],\n",
              "       [-6.40980138, -1.66233564],\n",
              "       [-3.69412455, -1.48730724],\n",
              "       [ 1.27746797, -4.90556404],\n",
              "       [ 2.19546802,  2.34002846],\n",
              "       [-2.7039881 , -5.47640051],\n",
              "       [ 5.25508886, -6.54130587],\n",
              "       [-3.14440823, -0.83551203],\n",
              "       [-1.04892325, -0.04864752],\n",
              "       [ 4.19500263,  0.64193372],\n",
              "       [ 0.52468195, -0.31819201],\n",
              "       [ 2.00307305,  1.42988601],\n",
              "       [-3.73392041,  2.89324222],\n",
              "       [ 2.07331331,  3.04968775],\n",
              "       [ 1.61726694,  1.91676195],\n",
              "       [-4.11106736,  1.08933677],\n",
              "       [-5.26400096, -4.82828057],\n",
              "       [-4.45683943,  0.21663088],\n",
              "       [-3.0138446 , -1.28092312],\n",
              "       [-6.67690449, -6.77933092],\n",
              "       [-0.94887681, -5.01213951],\n",
              "       [-1.39677379, -0.87911418],\n",
              "       [ 4.84111623, -3.79124628],\n",
              "       [-0.32589095, -2.68023797]])"
            ]
          },
          "metadata": {
            "tags": []
          },
          "execution_count": 5
        }
      ]
    },
    {
      "cell_type": "code",
      "metadata": {
        "id": "qm-nybD_3m5h",
        "colab_type": "code",
        "colab": {
          "base_uri": "https://localhost:8080/",
          "height": 282
        },
        "outputId": "444676dd-4673-44f3-d512-306818acaad8"
      },
      "source": [
        "plt.scatter(data[:,0], data[:,1])"
      ],
      "execution_count": 6,
      "outputs": [
        {
          "output_type": "execute_result",
          "data": {
            "text/plain": [
              "<matplotlib.collections.PathCollection at 0x7f906d6f3470>"
            ]
          },
          "metadata": {
            "tags": []
          },
          "execution_count": 6
        },
        {
          "output_type": "display_data",
          "data": {
            "image/png": "[encoded data removed]",
            "text/plain": [
              "<Figure size 432x288 with 1 Axes>"
            ]
          },
          "metadata": {
            "tags": []
          }
        }
      ]
    },
    {
      "cell_type": "code",
      "metadata": {
        "id": "tZgIYKyd4BGK",
        "colab_type": "code",
        "colab": {}
      },
      "source": [
        "data[:h, :] = data[:h, :] - 3*np.ones((h, dimen))"
      ],
      "execution_count": 0,
      "outputs": []
    },
    {
      "cell_type": "code",
      "metadata": {
        "id": "INJCjuH24RmR",
        "colab_type": "code",
        "colab": {}
      },
      "source": [
        "data[:h, :] = data[h:, :] + 3*np.ones((h, dimen))"
      ],
      "execution_count": 0,
      "outputs": []
    },
    {
      "cell_type": "code",
      "metadata": {
        "id": "XFUxMM7O4X6r",
        "colab_type": "code",
        "colab": {
          "base_uri": "https://localhost:8080/",
          "height": 282
        },
        "outputId": "0644b109-3771-4dd1-e2af-eee87b1fd5f7"
      },
      "source": [
        "colors = ['blue', 'red']\n",
        "\n",
        "color = np.array([colors[0]]*h + [colors[1]]*h).reshape(n)\n",
        "plt.scatter(data[:,0], data[:,1], c=color, s=75)"
      ],
      "execution_count": 15,
      "outputs": [
        {
          "output_type": "execute_result",
          "data": {
            "text/plain": [
              "<matplotlib.collections.PathCollection at 0x7f906a5fce48>"
            ]
          },
          "metadata": {
            "tags": []
          },
          "execution_count": 15
        },
        {
          "output_type": "display_data",
          "data": {
            "image/png": "[encoded data removed]",
            "text/plain": [
              "<Figure size 432x288 with 1 Axes>"
            ]
          },
          "metadata": {
            "tags": []
          }
        }
      ]
    },
    {
      "cell_type": "code",
      "metadata": {
        "id": "k0EM0PTu4aib",
        "colab_type": "code",
        "colab": {
          "base_uri": "https://localhost:8080/",
          "height": 34
        },
        "outputId": "95f00e7d-4b19-475c-ab16-c2a8db87b510"
      },
      "source": [
        "target = np.array([0]*h + [1]*h).reshape(n, 1)\n",
        "x = torch.from_numpy(data).float().requires_grad_(True)\n",
        "y = torch.from_numpy(target).float()\n",
        "\n",
        "x.shape, y.shape"
      ],
      "execution_count": 17,
      "outputs": [
        {
          "output_type": "execute_result",
          "data": {
            "text/plain": [
              "(torch.Size([100, 2]), torch.Size([100, 1]))"
            ]
          },
          "metadata": {
            "tags": []
          },
          "execution_count": 17
        }
      ]
    },
    {
      "cell_type": "code",
      "metadata": {
        "id": "spXJ4bcA5ta_",
        "colab_type": "code",
        "colab": {
          "base_uri": "https://localhost:8080/",
          "height": 282
        },
        "outputId": "f6046960-cb43-453e-b9fa-45b887e1e068"
      },
      "source": [
        "\n",
        "model = nn.Sequential(\n",
        "    nn.Linear(2,1),\n",
        "    nn.Sigmoid()\n",
        ")\n",
        "loss_function = nn.BCELoss()\n",
        "\n",
        "optimizer = optim.SGD(model.parameters(), lr= 0.01)\n",
        "\n",
        "losses = []\n",
        "iterations = 1000\n",
        "\n",
        "for i in range(iterations):\n",
        "  result = model(x)\n",
        "  loss = loss_function(result, y)\n",
        "  losses.append(loss.data)\n",
        "  optimizer.zero_grad()\n",
        "  loss.backward()\n",
        "\n",
        "  optimizer.step()\n",
        "\n",
        "plt.plot(range(iterations), losses)"
      ],
      "execution_count": 22,
      "outputs": [
        {
          "output_type": "execute_result",
          "data": {
            "text/plain": [
              "[<matplotlib.lines.Line2D at 0x7f906a43ec18>]"
            ]
          },
          "metadata": {
            "tags": []
          },
          "execution_count": 22
        },
        {
          "output_type": "display_data",
          "data": {
            "image/png": "[encoded data removed]",
            "text/plain": [
              "<Figure size 432x288 with 1 Axes>"
            ]
          },
          "metadata": {
            "tags": []
          }
        }
      ]
    },
    {
      "cell_type": "code",
      "metadata": {
        "id": "IC_e_4Rn_xRY",
        "colab_type": "code",
        "colab": {}
      },
      "source": [
        ""
      ],
      "execution_count": 0,
      "outputs": []
    }
  ]
}